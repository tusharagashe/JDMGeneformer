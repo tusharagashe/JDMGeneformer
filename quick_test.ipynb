{
 "cells": [
  {
   "cell_type": "code",
   "execution_count": 1,
   "id": "b4927cff",
   "metadata": {},
   "outputs": [],
   "source": [
    "import os"
   ]
  },
  {
   "cell_type": "code",
   "execution_count": 2,
   "id": "5531101e",
   "metadata": {},
   "outputs": [
    {
     "name": "stderr",
     "output_type": "stream",
     "text": [
      "/c4/home/tagashe/jdmwork/jdmanalysis/lib64/python3.11/site-packages/tqdm/auto.py:21: TqdmWarning: IProgress not found. Please update jupyter and ipywidgets. See https://ipywidgets.readthedocs.io/en/stable/user_install.html\n",
      "  from .autonotebook import tqdm as notebook_tqdm\n"
     ]
    }
   ],
   "source": [
    "from datasets import load_from_disk\n",
    "from Geneformer.geneformer import Classifier\n",
    "from transformers import TrainingArguments"
   ]
  },
  {
   "cell_type": "code",
   "execution_count": 3,
   "id": "2a457e93",
   "metadata": {},
   "outputs": [],
   "source": [
    "import scanpy as sc\n",
    "\n",
    "adata = sc.read_h5ad('miscfiles/CD4.h5ad')"
   ]
  },
  {
   "cell_type": "code",
   "execution_count": 10,
   "id": "011fe298",
   "metadata": {},
   "outputs": [
    {
     "data": {
      "text/plain": [
       "Index(['AAACCCAGTCCAACGC-1', 'AAACGAAAGACTCAAA-1', 'AAACGCTGTATCTTCT-1',\n",
       "       'AAACGCTTCTCGCTCA-1', 'AAAGGATCAGACATCT-1', 'AAAGGTAAGGGTATAT-1',\n",
       "       'AAAGGTATCAGCCTTC-1', 'AAAGTCCAGATCCCGC-1', 'AAATGGAGTTACAGCT-1',\n",
       "       'AACAAAGAGGGAGATA-1',\n",
       "       ...\n",
       "       'TTTCAGTCATGGATCT-6', 'TTTCCTCGTATATGGA-6', 'TTTGACTGTGCTGCAC-6',\n",
       "       'TTTGATCAGTTAGAAC-6', 'TTTGGAGCACTTGTGA-6', 'TTTGGAGTCGACACTA-6',\n",
       "       'TTTGGTTCATGCCATA-6', 'TTTGGTTGTGTCCGGT-6', 'TTTGGTTTCAGTGATC-6',\n",
       "       'TTTGTTGTCGGCTCTT-6'],\n",
       "      dtype='object', length=8207)"
      ]
     },
     "execution_count": 10,
     "metadata": {},
     "output_type": "execute_result"
    }
   ],
   "source": [
    "adata.obs_names"
   ]
  },
  {
   "cell_type": "code",
   "execution_count": null,
   "id": "cca8c2db",
   "metadata": {},
   "outputs": [],
   "source": [
    "# tk = TranscriptomeTokenizer(\n",
    "#         custom_attr_name_dict={\n",
    "#             \"disease_group\": \"disease_group\",\n",
    "#         },\n",
    "#         nproc=16  # adjust based on your system\n",
    "#     )\n",
    "\n",
    "# tk.tokenize_data(\n",
    "#     \"train_dataset\",\n",
    "#     \"tokenized_train_dataset\",\n",
    "#     \"tokenized\",\n",
    "#     file_format = \"h5ad\"  \n",
    "# )\n",
    "\n",
    "# tk.tokenize_data(\n",
    "#     \"test_dataset\",\n",
    "#     \"tokenized_test_dataset\",\n",
    "#     \"tokenized\",\n",
    "#     file_format = \"h5ad\"  \n",
    "# )"
   ]
  },
  {
   "cell_type": "code",
   "execution_count": 3,
   "id": "d163406b",
   "metadata": {},
   "outputs": [
    {
     "name": "stdout",
     "output_type": "stream",
     "text": [
      "=== RUNNING QUICK TEST WITH CORRECT API ===\n"
     ]
    }
   ],
   "source": [
    "print(\"=== RUNNING QUICK TEST WITH CORRECT API ===\")\n",
    "    \n",
    "# Load and subset data\n",
    "full_dataset = load_from_disk(\"tokenized_train_dataset/tokenized.dataset\")\n",
    "subset = full_dataset.select(range(100))  # slightly more for meaningful test\n",
    "#subset = subset.remove_columns('length')\n",
    "subset_path = \"tokenized_train_dataset/subset_test.dataset\"\n",
    "subset.save_to_disk(subset_path)\n",
    "\n",
    "os.makedirs(\"quick_test_output\", exist_ok=True)"
   ]
  },
  {
   "cell_type": "code",
   "execution_count": 4,
   "id": "b85ad11b",
   "metadata": {},
   "outputs": [
    {
     "data": {
      "text/html": [
       "<div>\n",
       "<style scoped>\n",
       "    .dataframe tbody tr th:only-of-type {\n",
       "        vertical-align: middle;\n",
       "    }\n",
       "\n",
       "    .dataframe tbody tr th {\n",
       "        vertical-align: top;\n",
       "    }\n",
       "\n",
       "    .dataframe thead th {\n",
       "        text-align: right;\n",
       "    }\n",
       "</style>\n",
       "<table border=\"1\" class=\"dataframe\">\n",
       "  <thead>\n",
       "    <tr style=\"text-align: right;\">\n",
       "      <th></th>\n",
       "      <th>input_ids</th>\n",
       "      <th>disease_group</th>\n",
       "      <th>length</th>\n",
       "    </tr>\n",
       "  </thead>\n",
       "  <tbody>\n",
       "    <tr>\n",
       "      <th>0</th>\n",
       "      <td>[2, 18875, 9387, 16079, 13985, 7126, 16450, 66...</td>\n",
       "      <td>Inactive</td>\n",
       "      <td>1271</td>\n",
       "    </tr>\n",
       "    <tr>\n",
       "      <th>1</th>\n",
       "      <td>[2, 9217, 14319, 14806, 11632, 7716, 3495, 726...</td>\n",
       "      <td>Inactive</td>\n",
       "      <td>1826</td>\n",
       "    </tr>\n",
       "    <tr>\n",
       "      <th>2</th>\n",
       "      <td>[2, 5788, 15343, 12186, 7590, 8735, 3857, 1701...</td>\n",
       "      <td>TNJDM</td>\n",
       "      <td>2202</td>\n",
       "    </tr>\n",
       "    <tr>\n",
       "      <th>3</th>\n",
       "      <td>[2, 915, 4305, 11429, 9572, 15371, 1001, 241, ...</td>\n",
       "      <td>Inactive</td>\n",
       "      <td>1458</td>\n",
       "    </tr>\n",
       "    <tr>\n",
       "      <th>4</th>\n",
       "      <td>[2, 16736, 15270, 12350, 744, 4331, 3174, 4155...</td>\n",
       "      <td>TNJDM</td>\n",
       "      <td>1647</td>\n",
       "    </tr>\n",
       "    <tr>\n",
       "      <th>...</th>\n",
       "      <td>...</td>\n",
       "      <td>...</td>\n",
       "      <td>...</td>\n",
       "    </tr>\n",
       "    <tr>\n",
       "      <th>7196</th>\n",
       "      <td>[2, 10295, 669, 14138, 2278, 9883, 2886, 5866,...</td>\n",
       "      <td>Active</td>\n",
       "      <td>958</td>\n",
       "    </tr>\n",
       "    <tr>\n",
       "      <th>7197</th>\n",
       "      <td>[2, 3790, 13112, 1577, 13341, 12964, 12773, 41...</td>\n",
       "      <td>TNJDM</td>\n",
       "      <td>1168</td>\n",
       "    </tr>\n",
       "    <tr>\n",
       "      <th>7198</th>\n",
       "      <td>[2, 13951, 6117, 15996, 10042, 15993, 15900, 5...</td>\n",
       "      <td>HC</td>\n",
       "      <td>1223</td>\n",
       "    </tr>\n",
       "    <tr>\n",
       "      <th>7199</th>\n",
       "      <td>[2, 14538, 19600, 19433, 941, 2063, 16218, 178...</td>\n",
       "      <td>Active</td>\n",
       "      <td>1199</td>\n",
       "    </tr>\n",
       "    <tr>\n",
       "      <th>7200</th>\n",
       "      <td>[2, 16384, 9685, 12764, 5910, 3424, 18417, 665...</td>\n",
       "      <td>Active</td>\n",
       "      <td>1699</td>\n",
       "    </tr>\n",
       "  </tbody>\n",
       "</table>\n",
       "<p>7201 rows × 3 columns</p>\n",
       "</div>"
      ],
      "text/plain": [
       "                                              input_ids disease_group  length\n",
       "0     [2, 18875, 9387, 16079, 13985, 7126, 16450, 66...      Inactive    1271\n",
       "1     [2, 9217, 14319, 14806, 11632, 7716, 3495, 726...      Inactive    1826\n",
       "2     [2, 5788, 15343, 12186, 7590, 8735, 3857, 1701...         TNJDM    2202\n",
       "3     [2, 915, 4305, 11429, 9572, 15371, 1001, 241, ...      Inactive    1458\n",
       "4     [2, 16736, 15270, 12350, 744, 4331, 3174, 4155...         TNJDM    1647\n",
       "...                                                 ...           ...     ...\n",
       "7196  [2, 10295, 669, 14138, 2278, 9883, 2886, 5866,...        Active     958\n",
       "7197  [2, 3790, 13112, 1577, 13341, 12964, 12773, 41...         TNJDM    1168\n",
       "7198  [2, 13951, 6117, 15996, 10042, 15993, 15900, 5...            HC    1223\n",
       "7199  [2, 14538, 19600, 19433, 941, 2063, 16218, 178...        Active    1199\n",
       "7200  [2, 16384, 9685, 12764, 5910, 3424, 18417, 665...        Active    1699\n",
       "\n",
       "[7201 rows x 3 columns]"
      ]
     },
     "execution_count": 4,
     "metadata": {},
     "output_type": "execute_result"
    }
   ],
   "source": [
    "import pandas\n",
    "df = subset.to_pandas()\n",
    "df\n",
    "df2 = full_dataset.to_pandas()\n",
    "df2"
   ]
  },
  {
   "cell_type": "code",
   "execution_count": 6,
   "id": "911089f7",
   "metadata": {},
   "outputs": [
    {
     "name": "stderr",
     "output_type": "stream",
     "text": [
      "/c4/home/tagashe/jdmwork/jdmanalysis/lib64/python3.11/site-packages/transformers/training_args.py:1559: FutureWarning: `evaluation_strategy` is deprecated and will be removed in version 4.46 of 🤗 Transformers. Use `eval_strategy` instead\n",
      "  warnings.warn(\n"
     ]
    }
   ],
   "source": [
    "quick_training_args = TrainingArguments(\n",
    "      output_dir=\"quick_test_output\",\n",
    "      num_train_epochs=3,              # just 3 epochs for quick test\n",
    "      learning_rate=5e-5,\n",
    "      per_device_train_batch_size=8,\n",
    "      lr_scheduler_type='polynomial',\n",
    "      per_device_eval_batch_size=8,\n",
    "      warmup_steps=50,\n",
    "      weight_decay=0.01,\n",
    "      logging_steps=10,\n",
    "      evaluation_strategy=\"no\",        # no eval for quick test\n",
    "      save_strategy=\"no\",              # don't save for quick test\n",
    "  )\n",
    "\n",
    "  # Quick classifier test\n",
    "quick_classifier = Classifier(\n",
    "      classifier=\"cell\",\n",
    "      cell_state_dict={\"state_key\": \"disease_group\", \"states\": \"all\"},\n",
    "      max_ncells=100,                  # use only 100 cells\n",
    "      training_args=quick_training_args.to_dict(),\n",
    "      freeze_layers=8,                 # freeze more layers for speed\n",
    "      num_crossval_splits=1,           # no cross-validation\n",
    "      forward_batch_size=8,\n",
    "      nproc=2,\n",
    "      ngpu=1\n",
    "  )\n",
    "\n",
    "os.makedirs(\"quick_test_prepared\", exist_ok=True)\n",
    "os.makedirs(\"quick_test_results\", exist_ok=True)\n",
    "\n",
    "  # Quick preparation and validation\n",
    "quick_classifier.prepare_data(\n",
    "      input_data_file=subset_path,\n",
    "      output_directory=\"quick_test_prepared\",\n",
    "      output_prefix=\"quick\"\n",
    "      )\n"
   ]
  },
  {
   "cell_type": "code",
   "execution_count": 8,
   "id": "4a9214f0",
   "metadata": {},
   "outputs": [
    {
     "name": "stderr",
     "output_type": "stream",
     "text": [
      "mkdir: cannot create directory ‘quick_test_results/250618_geneformer_cellClassifier_quick_classifier/’: File exists\n",
      "  0%|          | 0/1 [00:00<?, ?it/s]"
     ]
    },
    {
     "name": "stderr",
     "output_type": "stream",
     "text": [
      "mkdir: cannot create directory ‘quick_test_results/250618_geneformer_cellClassifier_quick_classifier/ksplit1’: File exists\n",
      "Some weights of BertForSequenceClassification were not initialized from the model checkpoint at ./Geneformer/gf-12L-95M-i4096 and are newly initialized: ['bert.pooler.dense.bias', 'bert.pooler.dense.weight', 'classifier.bias', 'classifier.weight']\n",
      "You should probably TRAIN this model on a down-stream task to be able to use it for predictions and inference.\n"
     ]
    },
    {
     "name": "stdout",
     "output_type": "stream",
     "text": [
      "****** Validation split: 1/1 ******\n",
      "\n"
     ]
    },
    {
     "name": "stderr",
     "output_type": "stream",
     "text": [
      "/c4/home/tagashe/jdmwork/jdmanalysis/lib64/python3.11/site-packages/transformers/training_args.py:2041: FutureWarning: `--push_to_hub_token` is deprecated and will be removed in version 5 of 🤗 Transformers. Use `--hub_token` instead.\n",
      "  warnings.warn(\n",
      "Detected kernel version 4.18.0, which is below the recommended minimum of 5.5.0; this can cause the process to hang. It is recommended to upgrade the kernel to the minimum version or higher.\n",
      "\u001b[34m\u001b[1mwandb\u001b[0m: Currently logged in as: \u001b[33mtusharagashe1\u001b[0m (\u001b[33mtusharagashe1-university-of-california\u001b[0m) to \u001b[32mhttps://api.wandb.ai\u001b[0m. Use \u001b[1m`wandb login --relogin`\u001b[0m to force relogin\n"
     ]
    },
    {
     "data": {
      "text/html": [
       "Tracking run with wandb version 0.19.11"
      ],
      "text/plain": [
       "<IPython.core.display.HTML object>"
      ]
     },
     "metadata": {},
     "output_type": "display_data"
    },
    {
     "data": {
      "text/html": [
       "Run data is saved locally in <code>/c4/home/tagashe/jdmwork/wandb/run-20250618_185903-0zaawc8i</code>"
      ],
      "text/plain": [
       "<IPython.core.display.HTML object>"
      ]
     },
     "metadata": {},
     "output_type": "display_data"
    },
    {
     "data": {
      "text/html": [
       "Syncing run <strong><a href='https://wandb.ai/tusharagashe1-university-of-california/huggingface/runs/0zaawc8i' target=\"_blank\">quick_test_output</a></strong> to <a href='https://wandb.ai/tusharagashe1-university-of-california/huggingface' target=\"_blank\">Weights & Biases</a> (<a href='https://wandb.me/developer-guide' target=\"_blank\">docs</a>)<br>"
      ],
      "text/plain": [
       "<IPython.core.display.HTML object>"
      ]
     },
     "metadata": {},
     "output_type": "display_data"
    },
    {
     "data": {
      "text/html": [
       " View project at <a href='https://wandb.ai/tusharagashe1-university-of-california/huggingface' target=\"_blank\">https://wandb.ai/tusharagashe1-university-of-california/huggingface</a>"
      ],
      "text/plain": [
       "<IPython.core.display.HTML object>"
      ]
     },
     "metadata": {},
     "output_type": "display_data"
    },
    {
     "data": {
      "text/html": [
       " View run at <a href='https://wandb.ai/tusharagashe1-university-of-california/huggingface/runs/0zaawc8i' target=\"_blank\">https://wandb.ai/tusharagashe1-university-of-california/huggingface/runs/0zaawc8i</a>"
      ],
      "text/plain": [
       "<IPython.core.display.HTML object>"
      ]
     },
     "metadata": {},
     "output_type": "display_data"
    },
    {
     "name": "stderr",
     "output_type": "stream",
     "text": [
      "/c4/home/tagashe/jdmwork/Geneformer/geneformer/collator_for_classification.py:644: UserWarning: To copy construct from a tensor, it is recommended to use sourceTensor.detach().clone() or sourceTensor.detach().clone().requires_grad_(True), rather than torch.tensor(sourceTensor).\n",
      "  batch = {k: torch.tensor(v, dtype=torch.int64) for k, v in batch.items()}\n"
     ]
    },
    {
     "data": {
      "text/html": [
       "\n",
       "    <div>\n",
       "      \n",
       "      <progress value='30' max='30' style='width:300px; height:20px; vertical-align: middle;'></progress>\n",
       "      [30/30 00:30, Epoch 3/3]\n",
       "    </div>\n",
       "    <table border=\"1\" class=\"dataframe\">\n",
       "  <thead>\n",
       " <tr style=\"text-align: left;\">\n",
       "      <th>Step</th>\n",
       "      <th>Training Loss</th>\n",
       "    </tr>\n",
       "  </thead>\n",
       "  <tbody>\n",
       "    <tr>\n",
       "      <td>1</td>\n",
       "      <td>1.502700</td>\n",
       "    </tr>\n",
       "    <tr>\n",
       "      <td>2</td>\n",
       "      <td>1.477400</td>\n",
       "    </tr>\n",
       "    <tr>\n",
       "      <td>3</td>\n",
       "      <td>1.420300</td>\n",
       "    </tr>\n",
       "    <tr>\n",
       "      <td>4</td>\n",
       "      <td>1.463000</td>\n",
       "    </tr>\n",
       "    <tr>\n",
       "      <td>5</td>\n",
       "      <td>1.426600</td>\n",
       "    </tr>\n",
       "    <tr>\n",
       "      <td>6</td>\n",
       "      <td>1.453300</td>\n",
       "    </tr>\n",
       "    <tr>\n",
       "      <td>7</td>\n",
       "      <td>1.396500</td>\n",
       "    </tr>\n",
       "    <tr>\n",
       "      <td>8</td>\n",
       "      <td>1.436100</td>\n",
       "    </tr>\n",
       "    <tr>\n",
       "      <td>9</td>\n",
       "      <td>1.470000</td>\n",
       "    </tr>\n",
       "    <tr>\n",
       "      <td>10</td>\n",
       "      <td>1.424000</td>\n",
       "    </tr>\n",
       "    <tr>\n",
       "      <td>11</td>\n",
       "      <td>1.405800</td>\n",
       "    </tr>\n",
       "    <tr>\n",
       "      <td>12</td>\n",
       "      <td>1.443100</td>\n",
       "    </tr>\n",
       "    <tr>\n",
       "      <td>13</td>\n",
       "      <td>1.388500</td>\n",
       "    </tr>\n",
       "    <tr>\n",
       "      <td>14</td>\n",
       "      <td>1.342500</td>\n",
       "    </tr>\n",
       "    <tr>\n",
       "      <td>15</td>\n",
       "      <td>1.351700</td>\n",
       "    </tr>\n",
       "    <tr>\n",
       "      <td>16</td>\n",
       "      <td>1.433400</td>\n",
       "    </tr>\n",
       "    <tr>\n",
       "      <td>17</td>\n",
       "      <td>1.406400</td>\n",
       "    </tr>\n",
       "    <tr>\n",
       "      <td>18</td>\n",
       "      <td>1.305600</td>\n",
       "    </tr>\n",
       "    <tr>\n",
       "      <td>19</td>\n",
       "      <td>1.345400</td>\n",
       "    </tr>\n",
       "    <tr>\n",
       "      <td>20</td>\n",
       "      <td>1.251900</td>\n",
       "    </tr>\n",
       "    <tr>\n",
       "      <td>21</td>\n",
       "      <td>1.309200</td>\n",
       "    </tr>\n",
       "    <tr>\n",
       "      <td>22</td>\n",
       "      <td>1.345100</td>\n",
       "    </tr>\n",
       "    <tr>\n",
       "      <td>23</td>\n",
       "      <td>1.346300</td>\n",
       "    </tr>\n",
       "    <tr>\n",
       "      <td>24</td>\n",
       "      <td>1.254200</td>\n",
       "    </tr>\n",
       "    <tr>\n",
       "      <td>25</td>\n",
       "      <td>1.303000</td>\n",
       "    </tr>\n",
       "    <tr>\n",
       "      <td>26</td>\n",
       "      <td>1.315900</td>\n",
       "    </tr>\n",
       "    <tr>\n",
       "      <td>27</td>\n",
       "      <td>1.292700</td>\n",
       "    </tr>\n",
       "    <tr>\n",
       "      <td>28</td>\n",
       "      <td>1.192500</td>\n",
       "    </tr>\n",
       "    <tr>\n",
       "      <td>29</td>\n",
       "      <td>1.512700</td>\n",
       "    </tr>\n",
       "    <tr>\n",
       "      <td>30</td>\n",
       "      <td>1.205500</td>\n",
       "    </tr>\n",
       "  </tbody>\n",
       "</table><p>"
      ],
      "text/plain": [
       "<IPython.core.display.HTML object>"
      ]
     },
     "metadata": {},
     "output_type": "display_data"
    },
    {
     "name": "stderr",
     "output_type": "stream",
     "text": [
      "100%|██████████| 2/2 [00:00<00:00,  2.08it/s]\n",
      "100%|██████████| 1/1 [01:05<00:00, 65.09s/it]"
     ]
    },
    {
     "name": "stdout",
     "output_type": "stream",
     "text": [
      "Quick test completed!\n",
      "Quick test metrics: {'conf_matrix':            HC  TNJDM  Inactive  Active\n",
      "HC        0.0    0.0       2.0     0.0\n",
      "TNJDM     0.0    0.0       2.0     0.0\n",
      "Inactive  0.0    0.0       5.0     0.0\n",
      "Active    0.0    0.0       1.0     0.0, 'macro_f1': [np.float64(0.16666666666666666)], 'acc': [0.5], 'all_roc_metrics': None}\n"
     ]
    },
    {
     "name": "stderr",
     "output_type": "stream",
     "text": [
      "\n"
     ]
    }
   ],
   "source": [
    "quick_metrics = quick_classifier.validate(\n",
    "        model_directory=\"./Geneformer/gf-12L-95M-i4096\",\n",
    "        prepared_input_data_file=\"quick_test_prepared/quick_labeled_train.dataset\",\n",
    "        id_class_dict_file=\"quick_test_prepared/quick_id_class_dict.pkl\",\n",
    "        output_directory=\"quick_test_results\",\n",
    "        output_prefix=\"quick_classifier\",\n",
    "        n_hyperopt_trials=0,             # no hyperopt for quick test\n",
    "    )\n",
    "    \n",
    "print(\"Quick test completed!\")\n",
    "print(f\"Quick test metrics: {quick_metrics}\")"
   ]
  },
  {
   "cell_type": "code",
   "execution_count": 9,
   "id": "e9b9a9e2",
   "metadata": {},
   "outputs": [
    {
     "name": "stderr",
     "output_type": "stream",
     "text": [
      "Hyperparameter tuning is highly recommended for optimal results. No training_args provided; using default hyperparameters.\n"
     ]
    }
   ],
   "source": [
    "cc = Classifier(classifier=\"cell\",\n",
    "                cell_state_dict = {\"state_key\": \"disease_group\", \"states\": \"all\"},\n",
    "                forward_batch_size=200,\n",
    "                nproc=16)\n"
   ]
  },
  {
   "cell_type": "code",
   "execution_count": 10,
   "id": "1aa807f4",
   "metadata": {},
   "outputs": [
    {
     "name": "stderr",
     "output_type": "stream",
     "text": [
      "100%|██████████| 1/1 [00:00<00:00,  1.77it/s]\n"
     ]
    }
   ],
   "source": [
    "all_metrics_test = cc.evaluate_saved_model(\n",
    "        model_directory=\"quick_test_results/250618_geneformer_cellClassifier_quick_classifier/ksplit1\",\n",
    "        id_class_dict_file=\"quick_test_prepared/quick_id_class_dict.pkl\",\n",
    "        test_data_file=\"quick_test_prepared/quick_labeled_test.dataset\",\n",
    "        output_directory=\"quick_test_results\",\n",
    "        output_prefix=\"quick_eval\",\n",
    "    )"
   ]
  },
  {
   "cell_type": "code",
   "execution_count": 11,
   "id": "656d7f15",
   "metadata": {},
   "outputs": [
    {
     "data": {
      "text/plain": [
       "<Figure size 1000x1000 with 0 Axes>"
      ]
     },
     "metadata": {},
     "output_type": "display_data"
    },
    {
     "data": {
      "image/png": "[encoded data removed]",
      "text/plain": [
       "<Figure size 640x480 with 2 Axes>"
      ]
     },
     "metadata": {},
     "output_type": "display_data"
    }
   ],
   "source": [
    "cc.plot_conf_mat(\n",
    "        conf_mat_dict={\"Geneformer\": all_metrics_test[\"conf_matrix\"]},\n",
    "        output_directory=\"quick_test_results\",\n",
    "        output_prefix=\"quick_eval\",\n",
    ")"
   ]
  }
 ],
 "metadata": {
  "kernelspec": {
   "display_name": "Python 3 (ipykernel)",
   "language": "python",
   "name": "python3"
  },
  "language_info": {
   "codemirror_mode": {
    "name": "ipython",
    "version": 3
   },
   "file_extension": ".py",
   "mimetype": "text/x-python",
   "name": "python",
   "nbconvert_exporter": "python",
   "pygments_lexer": "ipython3",
   "version": "3.10.12"
  }
 },
 "nbformat": 4,
 "nbformat_minor": 5
}
